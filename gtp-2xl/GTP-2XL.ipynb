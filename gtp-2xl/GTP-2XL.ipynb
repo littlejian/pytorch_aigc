{
 "cells": [
  {
   "cell_type": "code",
   "execution_count": 1,
   "metadata": {},
   "outputs": [
    {
     "name": "stdout",
     "output_type": "stream",
     "text": [
      "the shape of Q vector is torch.Size([1, 4, 1600])\n",
      "the shape of K vector is torch.Size([1, 4, 1600])\n",
      "the shape of V vector is torch.Size([1, 4, 1600])\n"
     ]
    }
   ],
   "source": [
    "import torch\n",
    "import torch.nn as nn\n",
    "\n",
    "# 创建输入嵌入 x\n",
    "x=torch.randn((1,4,1600))\n",
    "# 创建神经网络\n",
    "c_attn=nn.Linear(1600,1600*3)\n",
    "B,T,C=x.size()\n",
    "# 将输入嵌入传递给神经网络，以创建 Q、K 和 V\n",
    "q,k,v=c_attn(x).split(1600,dim=2)\n",
    "# 打印 Q、K 和 V 的大小\n",
    "print(f\"the shape of Q vector is {q.size()}\")\n",
    "print(f\"the shape of K vector is {k.size()}\")\n",
    "print(f\"the shape of V vector is {v.size()}\")"
   ]
  },
  {
   "cell_type": "code",
   "execution_count": 2,
   "metadata": {},
   "outputs": [
    {
     "name": "stdout",
     "output_type": "stream",
     "text": [
      "the shape of Q vector is torch.Size([1, 25, 4, 64])\n",
      "the shape of K vector is torch.Size([1, 25, 4, 64])\n",
      "the shape of V vector is torch.Size([1, 25, 4, 64])\n"
     ]
    }
   ],
   "source": [
    "# 将 Q、K 和 V 分成 25 个注意力头\n",
    "hs=C//25\n",
    "k = k.view(B, T, 25, hs).transpose(1, 2) \n",
    "q = q.view(B, T, 25, hs).transpose(1, 2) \n",
    "v = v.view(B, T, 25, hs).transpose(1, 2)\n",
    "# 打印多头 Q、K 和 V 的大小\n",
    "print(f\"the shape of Q vector is {q.size()}\")\n",
    "print(f\"the shape of K vector is {k.size()}\")\n",
    "print(f\"the shape of V vector is {v.size()}\")"
   ]
  },
  {
   "cell_type": "code",
   "execution_count": 3,
   "metadata": {},
   "outputs": [
    {
     "name": "stdout",
     "output_type": "stream",
     "text": [
      "tensor([[ 0.2592,  0.0943, -0.3034,  0.0833],\n",
      "        [-0.0531,  0.0202,  0.0944, -0.0316],\n",
      "        [-0.3446, -0.1044,  0.6132,  0.0773],\n",
      "        [ 0.4473, -0.0781, -0.6020,  0.2397]], grad_fn=<SelectBackward0>)\n"
     ]
    }
   ],
   "source": [
    "import math\n",
    "scaled_att = (q @ k.transpose(-2, -1)) *\\\n",
    "            (1.0 / math.sqrt(k.size(-1)))\n",
    "print(scaled_att[0,0]) "
   ]
  },
  {
   "cell_type": "code",
   "execution_count": 4,
   "metadata": {},
   "outputs": [
    {
     "name": "stdout",
     "output_type": "stream",
     "text": [
      "tensor([[ 0.1983, -0.6126, -0.1932,  0.3118],\n",
      "        [-0.2145,  0.4351,  0.0870, -0.1328],\n",
      "        [ 0.7554, -0.0756, -0.0808,  0.2678],\n",
      "        [ 0.1954,  0.0598,  0.4298, -0.0878]], grad_fn=<SelectBackward0>)\n"
     ]
    }
   ],
   "source": [
    "# print out the scaled attention scores in the second head\n",
    "print(scaled_att[0,1]) "
   ]
  },
  {
   "cell_type": "code",
   "execution_count": 5,
   "metadata": {},
   "outputs": [
    {
     "name": "stdout",
     "output_type": "stream",
     "text": [
      "tensor([[1., 0., 0., 0.],\n",
      "        [1., 1., 0., 0.],\n",
      "        [1., 1., 1., 0.],\n",
      "        [1., 1., 1., 1.]])\n",
      "tensor([[ 0.2592,    -inf,    -inf,    -inf],\n",
      "        [-0.0531,  0.0202,    -inf,    -inf],\n",
      "        [-0.3446, -0.1044,  0.6132,    -inf],\n",
      "        [ 0.4473, -0.0781, -0.6020,  0.2397]], grad_fn=<SelectBackward0>)\n"
     ]
    }
   ],
   "source": [
    "# 创建一个掩码\n",
    "mask=torch.tril(torch.ones(4,4))\n",
    "print(mask)\n",
    "# 通过将未来词元的值改为 -∞，将掩码应用于缩放后的注意力得分\n",
    "masked_scaled_att=scaled_att.masked_fill(mask == 0, float('-inf'))\n",
    "print(masked_scaled_att[0,0]) "
   ]
  },
  {
   "cell_type": "code",
   "execution_count": 6,
   "metadata": {},
   "outputs": [
    {
     "name": "stdout",
     "output_type": "stream",
     "text": [
      "tensor([[1.0000, 0.0000, 0.0000, 0.0000],\n",
      "        [0.4817, 0.5183, 0.0000, 0.0000],\n",
      "        [0.2050, 0.2607, 0.5343, 0.0000],\n",
      "        [0.3631, 0.2147, 0.1271, 0.2950]], grad_fn=<SelectBackward0>)\n"
     ]
    }
   ],
   "source": [
    "import torch.nn.functional as F\n",
    "att = F.softmax(masked_scaled_att, dim=-1)\n",
    "print(att[0,0])"
   ]
  },
  {
   "cell_type": "code",
   "execution_count": 7,
   "metadata": {},
   "outputs": [
    {
     "name": "stdout",
     "output_type": "stream",
     "text": [
      "tensor([[1.0000, 0.0000, 0.0000, 0.0000],\n",
      "        [0.4968, 0.5032, 0.0000, 0.0000],\n",
      "        [0.3156, 0.4328, 0.2516, 0.0000],\n",
      "        [0.3560, 0.2125, 0.2560, 0.1755]], grad_fn=<SelectBackward0>)\n"
     ]
    }
   ],
   "source": [
    "# print out the attention weights in the last head\n",
    "print(att[0,-1]) "
   ]
  },
  {
   "cell_type": "code",
   "execution_count": 8,
   "metadata": {},
   "outputs": [
    {
     "name": "stdout",
     "output_type": "stream",
     "text": [
      "torch.Size([1, 4, 1600])\n"
     ]
    }
   ],
   "source": [
    "y=att@v\n",
    "y = y.transpose(1, 2).contiguous().view(B, T, C)\n",
    "print(y.shape)"
   ]
  },
  {
   "cell_type": "code",
   "execution_count": 9,
   "metadata": {},
   "outputs": [
    {
     "name": "stdout",
     "output_type": "stream",
     "text": [
      "['This', ' is', ' the', ' original', ' text', '.']\n"
     ]
    }
   ],
   "source": [
    "from bpe import get_encoder\n",
    "\n",
    "example=\"This is the original text.\"\n",
    "# 实例化 get_encoder() 类\n",
    "bpe_encoder=get_encoder()\n",
    "# 分词并打印词元\n",
    "response=bpe_encoder.encode_and_show_work(example)\n",
    "print(response[\"tokens\"])"
   ]
  },
  {
   "cell_type": "code",
   "execution_count": 11,
   "metadata": {},
   "outputs": [
    {
     "name": "stdout",
     "output_type": "stream",
     "text": [
      "[1212, 318, 262, 2656, 2420, 13]\n"
     ]
    }
   ],
   "source": [
    "print(response['bpe_idx'])"
   ]
  },
  {
   "cell_type": "code",
   "execution_count": 12,
   "metadata": {},
   "outputs": [
    {
     "name": "stdout",
     "output_type": "stream",
     "text": [
      "This is the original text.\n"
     ]
    }
   ],
   "source": [
    "from bpe import BPETokenizer \n",
    "# 实例化 BPETokenizer() 类\n",
    "tokenizer = BPETokenizer()\n",
    "# 使用分词器根据索引恢复文本\n",
    "out=tokenizer.decode(torch.LongTensor(response['bpe_idx']))   \n",
    "print(out)"
   ]
  },
  {
   "cell_type": "code",
   "execution_count": 13,
   "metadata": {},
   "outputs": [
    {
     "name": "stdout",
     "output_type": "stream",
     "text": [
      "['this', ' is', ' a', ' prompt']\n",
      "[5661, 318, 257, 6152]\n",
      "this is a prompt\n"
     ]
    }
   ],
   "source": [
    "# split the phrase \"this is a prompt\" into tokens\n",
    "example=\"this is a prompt\"\n",
    "bpe_encoder=get_encoder()\n",
    "response=bpe_encoder.encode_and_show_work(example)\n",
    "print(response[\"tokens\"])\n",
    "# After that, map the tokens to indexes\n",
    "print(response['bpe_idx'])\n",
    "# Finally, restore the phrase based on the indexes \n",
    "out=tokenizer.decode(torch.LongTensor(response['bpe_idx']))   \n",
    "print(out)"
   ]
  },
  {
   "cell_type": "code",
   "execution_count": 14,
   "metadata": {},
   "outputs": [],
   "source": [
    "class GELU(nn.Module):\n",
    "    def forward(self, x):\n",
    "        return 0.5*x*(1.0+torch.tanh(math.sqrt(2.0/math.pi)*\\\n",
    "                       (x + 0.044715 * torch.pow(x, 3.0))))"
   ]
  },
  {
   "cell_type": "code",
   "execution_count": 15,
   "metadata": {},
   "outputs": [
    {
     "data": {
      "image/png": "[encoded data removed]",
      "text/plain": [
       "<Figure size 1800x1200 with 1 Axes>"
      ]
     },
     "metadata": {},
     "output_type": "display_data"
    }
   ],
   "source": [
    "import matplotlib.pyplot as plt\n",
    "import numpy as np\n",
    "\n",
    "genu=GELU()\n",
    "# 定义 ReLU 函数\n",
    "def relu(x):\n",
    "    y=torch.zeros(len(x))\n",
    "    for i in range(len(x)):\n",
    "        if x[i]>0:\n",
    "            y[i]=x[i]\n",
    "    return y                 \n",
    "xs = torch.linspace(-6,6,300)\n",
    "ys=relu(xs)\n",
    "gs=genu(xs)\n",
    "# 可视化 ReLU 和 GELU 激活函数\n",
    "fig, ax = plt.subplots(figsize=(6,4),dpi=300)\n",
    "plt.xlim(-3,3)\n",
    "plt.ylim(-0.5,3.5)\n",
    "plt.plot(xs, ys, color = 'blue', label=\"ReLU\")\n",
    "plt.plot(xs, gs, \"--\", color = 'red', label=\"GELU\")\n",
    "plt.legend(fontsize=15)\n",
    "plt.xlabel(\"values of x\")\n",
    "plt.ylabel(\"values of $ReLU(x)$ and $GELU(x)$\")\n",
    "plt.title(\"The ReLU and GELU Activation Functions\")\n",
    "plt.show()"
   ]
  },
  {
   "cell_type": "code",
   "execution_count": 16,
   "metadata": {},
   "outputs": [],
   "source": [
    "# 定义 Config() 类\n",
    "class Config():\n",
    "    def __init__(self):\n",
    "        # 将模型超参数作为属性放入类中\n",
    "        self.n_layer = 48\n",
    "        self.n_head = 25\n",
    "        self.n_embd = 1600\n",
    "        self.vocab_size = 50257\n",
    "        self.block_size = 1024 \n",
    "        self.embd_pdrop = 0.1 \n",
    "        self.resid_pdrop = 0.1 \n",
    "        self.attn_pdrop = 0.1 \n",
    "        \n",
    "# 实例化 Config() 类\n",
    "config=Config()"
   ]
  },
  {
   "cell_type": "code",
   "execution_count": 17,
   "metadata": {},
   "outputs": [],
   "source": [
    "class CausalSelfAttention(nn.Module):\n",
    "    def __init__(self, config):\n",
    "        super().__init__()\n",
    "        self.c_attn = nn.Linear(config.n_embd, 3 * config.n_embd)\n",
    "        self.c_proj = nn.Linear(config.n_embd, config.n_embd)\n",
    "        self.attn_dropout = nn.Dropout(config.attn_pdrop)\n",
    "        self.resid_dropout = nn.Dropout(config.resid_pdrop)\n",
    "        # 创建一个掩码并将其注册为缓冲区\n",
    "        self.register_buffer(\"bias\", torch.tril(torch.ones(\\\n",
    "                   config.block_size, config.block_size))\n",
    "             .view(1, 1, config.block_size, config.block_size))\n",
    "        self.n_head = config.n_head\n",
    "        self.n_embd = config.n_embd\n",
    "\n",
    "    def forward(self, x):\n",
    "        B, T, C = x.size()\n",
    "        # 通过神经网络传递输入嵌入，以获得 Q、K 和 V\n",
    "        q, k ,v  = self.c_attn(x).split(self.n_embd, dim=2)\n",
    "        # 将 Q、K 和 V 分成多个注意力头\n",
    "        hs = C // self.n_head\n",
    "        k = k.view(B, T, self.n_head, hs).transpose(1, 2) \n",
    "        q = q.view(B, T, self.n_head, hs).transpose(1, 2) \n",
    "        v = v.view(B, T, self.n_head, hs).transpose(1, 2) \n",
    "\n",
    "        att = (q @ k.transpose(-2, -1)) *\\\n",
    "            (1.0 / math.sqrt(k.size(-1)))\n",
    "        att = att.masked_fill(self.bias[:,:,:T,:T] == 0, \\\n",
    "                              float('-inf'))\n",
    "        # 计算每个头中的掩码注意力权重\n",
    "        att = F.softmax(att, dim=-1)\n",
    "        att = self.attn_dropout(att)\n",
    "        y = att @ v\n",
    "        # 将所有头中的注意力向量连接成一个单一的注意力向量\n",
    "        y = y.transpose(1, 2).contiguous().view(B, T, C)\n",
    "        y = self.resid_dropout(self.c_proj(y))\n",
    "        return y"
   ]
  },
  {
   "cell_type": "code",
   "execution_count": 18,
   "metadata": {},
   "outputs": [],
   "source": [
    "class Block(nn.Module):\n",
    "    def __init__(self, config):\n",
    "        super().__init__()\n",
    "        self.ln_1 = nn.LayerNorm(config.n_embd)\n",
    "        self.attn = CausalSelfAttention(config)\n",
    "        self.ln_2 = nn.LayerNorm(config.n_embd)\n",
    "        self.mlp = nn.ModuleDict(dict(\n",
    "            c_fc   = nn.Linear(config.n_embd, 4 * config.n_embd),\n",
    "            c_proj = nn.Linear(4 * config.n_embd, config.n_embd),\n",
    "            act    = GELU(),\n",
    "            dropout = nn.Dropout(config.resid_pdrop),\n",
    "        ))\n",
    "        m = self.mlp\n",
    "        self.mlpf=lambda x:m.dropout(m.c_proj(m.act(m.c_fc(x)))) \n",
    "\n",
    "    def forward(self, x):\n",
    "        # 块中的第一个子层是因果自注意力子层，带有层归一化和残差连接\n",
    "        x = x + self.attn(self.ln_1(x))\n",
    "        # 块中的第二个子层是前馈神经网络，具有 GELU 激活函数、层归一化和残差连接\n",
    "        x = x + self.mlpf(self.ln_2(x))\n",
    "        return x"
   ]
  },
  {
   "cell_type": "code",
   "execution_count": 19,
   "metadata": {},
   "outputs": [],
   "source": [
    "class GPT2XL(nn.Module):\n",
    "    def __init__(self, config):\n",
    "        super().__init__()\n",
    "        self.block_size = config.block_size\n",
    "        self.transformer = nn.ModuleDict(dict(\n",
    "            wte = nn.Embedding(config.vocab_size, config.n_embd),\n",
    "            wpe = nn.Embedding(config.block_size, config.n_embd),\n",
    "            drop = nn.Dropout(config.embd_pdrop),\n",
    "            h = nn.ModuleList([Block(config) \n",
    "                               for _ in range(config.n_layer)]),\n",
    "            ln_f = nn.LayerNorm(config.n_embd),))\n",
    "        self.lm_head = nn.Linear(config.n_embd,\n",
    "                                 config.vocab_size, bias=False)      \n",
    "    def forward(self, idx, targets=None):\n",
    "        b, t = idx.size()\n",
    "        pos = torch.arange(0,t,dtype=torch.long).unsqueeze(0)\n",
    "        tok_emb = self.transformer.wte(idx) \n",
    "        pos_emb = self.transformer.wpe(pos)\n",
    "        # 计算输入嵌入作为词嵌入和位置编码的和\n",
    "        x = self.transformer.drop(tok_emb + pos_emb)\n",
    "        # 将输入嵌入通过 48 个解码器块\n",
    "        for block in self.transformer.h:\n",
    "            x = block(x)\n",
    "        # 再次应用层归一化\n",
    "        x = self.transformer.ln_f(x)\n",
    "        # 添加线性层，使输出的数量等于唯一词元的数量\n",
    "        logits = self.lm_head(x)\n",
    "        loss = None\n",
    "        if targets is not None:\n",
    "            loss=F.cross_entropy(logits.view(-1,logits.size(-1)),\n",
    "                           targets.view(-1), ignore_index=-1)\n",
    "        return logits, loss"
   ]
  },
  {
   "cell_type": "code",
   "execution_count": 20,
   "metadata": {},
   "outputs": [
    {
     "name": "stdout",
     "output_type": "stream",
     "text": [
      "number of parameters: 1557.61M\n"
     ]
    }
   ],
   "source": [
    "model=GPT2XL(config)\n",
    "num=sum(p.numel() for p in model.transformer.parameters())\n",
    "print(\"number of parameters: %.2fM\" % (num/1e6,))"
   ]
  },
  {
   "cell_type": "code",
   "execution_count": 21,
   "metadata": {},
   "outputs": [
    {
     "name": "stdout",
     "output_type": "stream",
     "text": [
      "GPT2XL(\n",
      "  (transformer): ModuleDict(\n",
      "    (wte): Embedding(50257, 1600)\n",
      "    (wpe): Embedding(1024, 1600)\n",
      "    (drop): Dropout(p=0.1, inplace=False)\n",
      "    (h): ModuleList(\n",
      "      (0-47): 48 x Block(\n",
      "        (ln_1): LayerNorm((1600,), eps=1e-05, elementwise_affine=True)\n",
      "        (attn): CausalSelfAttention(\n",
      "          (c_attn): Linear(in_features=1600, out_features=4800, bias=True)\n",
      "          (c_proj): Linear(in_features=1600, out_features=1600, bias=True)\n",
      "          (attn_dropout): Dropout(p=0.1, inplace=False)\n",
      "          (resid_dropout): Dropout(p=0.1, inplace=False)\n",
      "        )\n",
      "        (ln_2): LayerNorm((1600,), eps=1e-05, elementwise_affine=True)\n",
      "        (mlp): ModuleDict(\n",
      "          (c_fc): Linear(in_features=1600, out_features=6400, bias=True)\n",
      "          (c_proj): Linear(in_features=6400, out_features=1600, bias=True)\n",
      "          (act): GELU()\n",
      "          (dropout): Dropout(p=0.1, inplace=False)\n",
      "        )\n",
      "      )\n",
      "    )\n",
      "    (ln_f): LayerNorm((1600,), eps=1e-05, elementwise_affine=True)\n",
      "  )\n",
      "  (lm_head): Linear(in_features=1600, out_features=50257, bias=False)\n",
      ")\n"
     ]
    }
   ],
   "source": [
    "print(model)"
   ]
  },
  {
   "cell_type": "code",
   "execution_count": 22,
   "metadata": {},
   "outputs": [
    {
     "name": "stderr",
     "output_type": "stream",
     "text": [
      "2025-03-08 13:22:16.563959: I tensorflow/core/platform/cpu_feature_guard.cc:182] This TensorFlow binary is optimized to use available CPU instructions in performance-critical operations.\n",
      "To enable the following instructions: AVX2 FMA, in other operations, rebuild TensorFlow with the appropriate compiler flags.\n",
      "2025-03-08 13:22:19.772775: W tensorflow/compiler/tf2tensorrt/utils/py_utils.cc:38] TF-TRT Warning: Could not find TensorRT\n"
     ]
    },
    {
     "name": "stdout",
     "output_type": "stream",
     "text": [
      "GPT2LMHeadModel(\n",
      "  (transformer): GPT2Model(\n",
      "    (wte): Embedding(50257, 1600)\n",
      "    (wpe): Embedding(1024, 1600)\n",
      "    (drop): Dropout(p=0.1, inplace=False)\n",
      "    (h): ModuleList(\n",
      "      (0-47): 48 x GPT2Block(\n",
      "        (ln_1): LayerNorm((1600,), eps=1e-05, elementwise_affine=True)\n",
      "        (attn): GPT2SdpaAttention(\n",
      "          (c_attn): Conv1D(nf=4800, nx=1600)\n",
      "          (c_proj): Conv1D(nf=1600, nx=1600)\n",
      "          (attn_dropout): Dropout(p=0.1, inplace=False)\n",
      "          (resid_dropout): Dropout(p=0.1, inplace=False)\n",
      "        )\n",
      "        (ln_2): LayerNorm((1600,), eps=1e-05, elementwise_affine=True)\n",
      "        (mlp): GPT2MLP(\n",
      "          (c_fc): Conv1D(nf=6400, nx=1600)\n",
      "          (c_proj): Conv1D(nf=1600, nx=6400)\n",
      "          (act): NewGELUActivation()\n",
      "          (dropout): Dropout(p=0.1, inplace=False)\n",
      "        )\n",
      "      )\n",
      "    )\n",
      "    (ln_f): LayerNorm((1600,), eps=1e-05, elementwise_affine=True)\n",
      "  )\n",
      "  (lm_head): Linear(in_features=1600, out_features=50257, bias=False)\n",
      ")\n"
     ]
    }
   ],
   "source": [
    "from transformers import GPT2LMHeadModel\n",
    "# 加载预训练模型权重\n",
    "model_hf = GPT2LMHeadModel.from_pretrained('gpt2-xl')\n",
    "# 提取模型权重\n",
    "sd_hf = model_hf.state_dict()\n",
    "# 打印出原始 OpenAI GPT-2XL 模型的结构\n",
    "print(model_hf)"
   ]
  },
  {
   "cell_type": "markdown",
   "metadata": {},
   "source": [
    "OpenAI 同样使用 Conv1D 代替线性层"
   ]
  },
  {
   "cell_type": "code",
   "execution_count": 23,
   "metadata": {},
   "outputs": [
    {
     "name": "stdout",
     "output_type": "stream",
     "text": [
      "torch.Size([1600, 6400])\n"
     ]
    }
   ],
   "source": [
    "print(model_hf.transformer.h[0].mlp.c_fc.weight.shape) "
   ]
  },
  {
   "cell_type": "code",
   "execution_count": 24,
   "metadata": {},
   "outputs": [
    {
     "name": "stdout",
     "output_type": "stream",
     "text": [
      "torch.Size([6400, 1600])\n"
     ]
    }
   ],
   "source": [
    "print(model.transformer.h[0].mlp.c_fc.weight.shape)"
   ]
  },
  {
   "cell_type": "code",
   "execution_count": 25,
   "metadata": {},
   "outputs": [],
   "source": [
    "keys = [k for k in sd_hf if not k.endswith('attn.masked_bias')] "
   ]
  },
  {
   "cell_type": "code",
   "execution_count": 26,
   "metadata": {},
   "outputs": [],
   "source": [
    "sd=model.state_dict()"
   ]
  },
  {
   "cell_type": "code",
   "execution_count": 27,
   "metadata": {},
   "outputs": [],
   "source": [
    "# 找出 OpenAI 使用 Conv1d 模块而不是线性模块的层\n",
    "transposed = ['attn.c_attn.weight', 'attn.c_proj.weight',\n",
    "              'mlp.c_fc.weight', 'mlp.c_proj.weight']\n",
    "for k in keys:\n",
    "    if any(k.endswith(w) for w in transposed):\n",
    "        # 对于这些层，在将权重放入模型之前转置权重矩阵\n",
    "        with torch.no_grad():\n",
    "            sd[k].copy_(sd_hf[k].t())\n",
    "    else:\n",
    "        # 否则，直接从 OpenAI 复制权重并将其放入模型中\n",
    "        with torch.no_grad():\n",
    "            sd[k].copy_(sd_hf[k])"
   ]
  },
  {
   "cell_type": "code",
   "execution_count": 28,
   "metadata": {},
   "outputs": [],
   "source": [
    "model.eval()\n",
    "def sample(idx, max_new_tokens, temperature=1.0, top_k=None):\n",
    "    # 生成指定数量的新索引\n",
    "    for _ in range(max_new_tokens):\n",
    "        if idx.size(1) <= config.block_size:\n",
    "            idx_cond = idx  \n",
    "        else:\n",
    "            idx_cond = idx[:, -config.block_size:]\n",
    "        # 使用 GTP-2XL 预测下一索引\n",
    "        logits, _ = model(idx_cond)\n",
    "        logits = logits[:, -1, :] / temperature\n",
    "        # 如果使用 top-K 采样，将低于前 K 个选择的 logits 设置为 –∞\n",
    "        if top_k is not None:\n",
    "            v, _ = torch.topk(logits, top_k)\n",
    "            logits[logits < v[:, [-1]]] = -float('Inf')\n",
    "        probs = F.softmax(logits, dim=-1)\n",
    "        idx_next = torch.multinomial(probs, num_samples=1)\n",
    "        # 如果下一个标记是 <|endoftext|>，则停止预测\n",
    "        if idx_next.item()==tokenizer.encoder.encoder['<|endoftext|>']:\n",
    "            break\n",
    "        # 将新预测添加到序列中\n",
    "        idx = torch.cat((idx, idx_next), dim=1)\n",
    "    return idx "
   ]
  },
  {
   "cell_type": "code",
   "execution_count": 29,
   "metadata": {},
   "outputs": [],
   "source": [
    "def generate(prompt, max_new_tokens, temperature=1.0,\n",
    "             top_k=None):\n",
    "    if prompt == '':\n",
    "        x=torch.tensor([[tokenizer.encoder.encoder['<|endoftext|>']]],\n",
    "                         dtype=torch.long)\n",
    "    else:\n",
    "        x = tokenizer(prompt)\n",
    "    y = sample(x, max_new_tokens, temperature, top_k)\n",
    "    out = tokenizer.decode(y.squeeze())\n",
    "    print(out)"
   ]
  },
  {
   "cell_type": "code",
   "execution_count": 30,
   "metadata": {},
   "outputs": [
    {
     "name": "stdout",
     "output_type": "stream",
     "text": [
      "<|endoftext|>Sources close to Speakers' Corner confirmed to Breitbart News that Newt Gingrich was praying in the heat on June 14, just hours after suffering a heated grilling by the House ethics committee:\n",
      "\n",
      "White House officials could not immediately be reached for comment. Speaker Paul Ryan and members of the House Republican leadership huddled in Boehner's office later that day after negotiations resumed within the delegation, sources said.\n",
      "\n",
      "...\n",
      "\n",
      "News of Gingrich's prayer first emerged after Breitbart News published a post from a reporter\n"
     ]
    }
   ],
   "source": [
    "prompt=\"\"\n",
    "generate(prompt, max_new_tokens=100, temperature=1.0,\n",
    "             top_k=None)"
   ]
  },
  {
   "cell_type": "code",
   "execution_count": 31,
   "metadata": {},
   "outputs": [
    {
     "name": "stdout",
     "output_type": "stream",
     "text": [
      "<|endoftext|>Dryland plants are one of several types of plants that benefit from an annual crop of grasses that are rich in nitrogen. The grasses provide cover and moisture to the soil, and they promote weed growth. Annual grasses also improve soil quality by filtering water and removing fertilizers and organic matter.\n",
      "\n",
      "Grasses are produced by many grassland and rangeland ecosystems. Annual grass crops also benefit from the annual flood of grass seeds that occurs in some grasslands. These seeds germin\n"
     ]
    }
   ],
   "source": [
    "prompt=\"\"\n",
    "generate(prompt, max_new_tokens=100, temperature=0.9,\n",
    "             top_k=40)  "
   ]
  },
  {
   "cell_type": "code",
   "execution_count": 32,
   "metadata": {},
   "outputs": [
    {
     "name": "stdout",
     "output_type": "stream",
     "text": [
      "I went to the kitchen and said, you're not going to believe this.\n",
      "I went to the kitchen and noticed a female producer open a drawer in which was\n",
      "I went to the kitchen and asked who was going to be right there and A\n",
      "I went to the kitchen and took a small vial of bourbon and a little\n",
      "I went to the kitchen and found the bottle of wine, and poured it into\n"
     ]
    }
   ],
   "source": [
    "prompt=\"I went to the kitchen and\"\n",
    "for i in range(5):\n",
    "    torch.manual_seed(i)\n",
    "    generate(prompt, max_new_tokens=10, temperature=1.0,\n",
    "                 top_k=None)"
   ]
  },
  {
   "cell_type": "code",
   "execution_count": 33,
   "metadata": {},
   "outputs": [
    {
     "name": "stdout",
     "output_type": "stream",
     "text": [
      "Lexington is the second largest city in the state of Kentucky surrounding Louisville where the University of Louisville is located.\n",
      "\n",
      "Milford Hunt joins the 5-0 team that went undefeated in the 501 Blonsk Football League with the local team Louisville Black Kentucky before their group learned that they would not be allowed to compete at their home tournament due to a defunct balance of the squad rules.\n",
      "\n",
      "The Boys and Girls High School Division 2 cheerleading team, the Blonsk Court Stars, announced their escape from home with the first round in the 501blons\n"
     ]
    }
   ],
   "source": [
    "prompt=\"Lexington is the second largest city in the state of Kentucky\"\n",
    "generate(prompt, max_new_tokens=100, temperature=1.0,\n",
    "             top_k=None)"
   ]
  },
  {
   "cell_type": "code",
   "execution_count": 34,
   "metadata": {},
   "outputs": [
    {
     "name": "stdout",
     "output_type": "stream",
     "text": [
      "Lexington is the second largest city in the state of Kentucky, and home to a large number of universities and colleges including the University of Kentucky.\n",
      "\n",
      "4. Nashville\n",
      "\n",
      "Nashville is also home to a large number of public universities and colleges, including Vanderbilt University and the University of Tennessee. It is also the third largest city in the state of Tennessee.\n",
      "\n",
      "5. Atlanta\n",
      "\n",
      "Atlanta is the fifth largest city in the state of Georgia. It is the seventh largest city in the state of Georgia. It is also home to the Georgia\n"
     ]
    }
   ],
   "source": [
    "prompt=\"Lexington is the second largest city in the state of Kentucky\"\n",
    "generate(prompt, max_new_tokens=100, temperature=0.9,\n",
    "             top_k=50)"
   ]
  },
  {
   "cell_type": "code",
   "execution_count": 35,
   "metadata": {},
   "outputs": [
    {
     "name": "stdout",
     "output_type": "stream",
     "text": [
      "Lexington is the second largest city in the state of Kentucky. Richmondð consists entirely of public buildings and bodies of water. The city is rich masonry constructions, referencing early Spanish and Vietnamese influences that come along and challenge the colonial-claimed status of Black citizens in Virginia.[50][51] Zideal Medical Center in Lexington is the first academic medical- supports St. John's County and provides care to passengers on about 800 cargo and into passenger railway cars on coal and salt.\n",
      "\n",
      "See Also [ edit ]\n",
      "\n",
      "References [ edit ]\n"
     ]
    }
   ],
   "source": [
    "generate(prompt, max_new_tokens=100, temperature=1.2,\n",
    "             top_k=None) "
   ]
  }
 ],
 "metadata": {
  "kernelspec": {
   "display_name": "Python 3",
   "language": "python",
   "name": "python3"
  },
  "language_info": {
   "codemirror_mode": {
    "name": "ipython",
    "version": 3
   },
   "file_extension": ".py",
   "mimetype": "text/x-python",
   "name": "python",
   "nbconvert_exporter": "python",
   "pygments_lexer": "ipython3",
   "version": "3.8.10"
  }
 },
 "nbformat": 4,
 "nbformat_minor": 2
}
